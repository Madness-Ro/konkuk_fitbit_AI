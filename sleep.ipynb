{
 "cells": [
  {
   "cell_type": "code",
   "execution_count": 391,
   "metadata": {},
   "outputs": [],
   "source": [
    "import numpy as np \n",
    "import pandas as pd \n",
    "import statsmodels.api as sm\n",
    "\n",
    "def numbering_class(x):\n",
    "    if x =='Very Good':\n",
    "        return 4\n",
    "    if x =='Good':\n",
    "        return 3\n",
    "    if x =='Bad':\n",
    "        return 2\n",
    "    if x =='Very Bad':\n",
    "        return 1\n",
    "    \n",
    "def get_int(x):\n",
    "    try:\n",
    "        try: \n",
    "            return int(x)\n",
    "        except:\n",
    "            return int(x.replace(\",\",\"\"))\n",
    "    except:\n",
    "        return x\n",
    "    \n",
    "def data_change(s):\n",
    "    s_list = s.split()\n",
    "    s_list = [get_int(s[:-1]) for s in s_list[:4]]\n",
    "    s_list\n",
    "    if s_list[-1]==\"A\":\n",
    "        s_list[-2] -= 1\n",
    "        if s_list[-2] == 0:\n",
    "            s_list[-2]=31\n",
    "            s_list[-3] -= 1\n",
    "\n",
    "    s_list = [str(s) for s in s_list[:-1]]\n",
    "    \n",
    "    return \"/\".join(s_list)\n",
    "\n",
    "def data_change2(s):\n",
    "    s_list = s.split()[:3]\n",
    "\n",
    "    if s_list[0] == 'October':\n",
    "        s_list[0] = str(10)\n",
    "\n",
    "    if s_list[0] == 'November':\n",
    "        s_list[0] = str(11)\n",
    "    order = [2,0,1]\n",
    "    # s_list[order]\n",
    "    _list= []\n",
    "    _list.append(int(s_list[2]))\n",
    "    _list.append(int(s_list[0]))\n",
    "    _list.append(int(s_list[1][:-1]))\n",
    "\n",
    "    _list[-1] -= 1\n",
    "    if _list[-1] == 0:\n",
    "        _list[-1]=31\n",
    "        _list[-2] -= 1\n",
    "    _list = [str(s) for s in _list]\n",
    "    return\"/\".join(_list)\n",
    "\n",
    "def data_change3(s):\n",
    "    s_list = s.split()\n",
    "    s_list = [get_int(s[:-1]) for s in s_list[:4]]\n",
    "\n",
    "    s_list = [str(s) for s in s_list[:]]\n",
    "    \n",
    "    return \"/\".join(s_list)"
   ]
  },
  {
   "cell_type": "code",
   "execution_count": 394,
   "metadata": {
    "scrolled": false
   },
   "outputs": [],
   "source": [
    "target_name = \"태형\"\n",
    "df_s = pd.read_csv(\"no_sleep.csv\", encoding=\"latin1\")\n",
    "df_s = df_s.drop([\"end_date\"], axis=1)\n",
    "df_s = df_s[df_s[\"sleep_time\"]>180]\n",
    "df_s[\"start_date\"] = df_s[\"start_date\"].apply(data_change)\n",
    "df_s.rename(columns = {'start_date':'date'},inplace=True)\n",
    "\n",
    "df = pd.read_csv(\"no_act.csv\", encoding=\"latin1\")\n",
    "df[\"cal\"] = df[\"cal\"].apply(get_int)\n",
    "df[\"step\"] = df[\"step\"].apply(get_int)\n",
    "df[\"stop\"] = df[\"stop\"].apply(get_int)\n",
    "df[\"burn_cal\"] = df[\"burn_cal\"].apply(get_int)\n",
    "df[\"date\"] = df[\"date\"].apply(data_change3)\n",
    "\n",
    "df = df.drop([\"stair\"],axis=1)"
   ]
  },
  {
   "cell_type": "code",
   "execution_count": 395,
   "metadata": {},
   "outputs": [],
   "source": [
    "ans = pd.read_csv(\"target.csv\")[[\"생성 일시\", target_name]]\n",
    "ans[target_name] = ans[target_name].apply(numbering_class)\n",
    "\n",
    "ans['생성 일시'] = ans['생성 일시'].apply(data_change2)\n",
    "\n",
    "ans = ans.dropna()\n",
    "\n",
    "ans.columns = [\"date\",\"target\"]"
   ]
  },
  {
   "cell_type": "code",
   "execution_count": 396,
   "metadata": {},
   "outputs": [],
   "source": [
    "df_f = pd.merge(df, df_s, on='date', how='inner')\n",
    "\n",
    "df_ans = pd.merge(df_f, ans, on='date', how='inner')\n",
    "\n",
    "df_ans[\"inter\"] = 1\n",
    "\n",
    "df_ans.drop_duplicates(subset=\"date\", keep='first', inplace=True, ignore_index=False)"
   ]
  },
  {
   "cell_type": "code",
   "execution_count": 397,
   "metadata": {},
   "outputs": [],
   "source": [
    "trn = df_ans.drop([\"target\",\"date\"],axis=1)[:-5]\n",
    "trn_a = df_ans[\"target\"][:-5].apply(int) - 1\n",
    "\n",
    "val = df_ans.drop([\"target\",\"date\"],axis=1)[-5:]\n",
    "tst = df_ans[\"target\"][-5:].apply(int) - 1"
   ]
  },
  {
   "cell_type": "code",
   "execution_count": 398,
   "metadata": {},
   "outputs": [],
   "source": [
    "from xgboost import XGBClassifier\n",
    "import lightgbm as lgb"
   ]
  },
  {
   "cell_type": "code",
   "execution_count": 399,
   "metadata": {},
   "outputs": [],
   "source": [
    "# train_ds = lgb.Dataset(trn,label=ans)"
   ]
  },
  {
   "cell_type": "code",
   "execution_count": 454,
   "metadata": {},
   "outputs": [],
   "source": [
    "model = XGBClassifier(n_estimators=500, learning_rate=0.2, max_depth=4, random_state = 32)"
   ]
  },
  {
   "cell_type": "code",
   "execution_count": 455,
   "metadata": {},
   "outputs": [
    {
     "data": {
      "text/plain": [
       "XGBClassifier(base_score=0.5, booster='gbtree', callbacks=None,\n",
       "              colsample_bylevel=1, colsample_bynode=1, colsample_bytree=1,\n",
       "              early_stopping_rounds=None, enable_categorical=False,\n",
       "              eval_metric=None, gamma=0, gpu_id=-1, grow_policy='depthwise',\n",
       "              importance_type=None, interaction_constraints='',\n",
       "              learning_rate=0.2, max_bin=256, max_cat_to_onehot=4,\n",
       "              max_delta_step=0, max_depth=4, max_leaves=0, min_child_weight=1,\n",
       "              missing=nan, monotone_constraints='()', n_estimators=500,\n",
       "              n_jobs=0, num_parallel_tree=1, objective='multi:softprob',\n",
       "              predictor='auto', random_state=32, reg_alpha=0, ...)"
      ]
     },
     "execution_count": 455,
     "metadata": {},
     "output_type": "execute_result"
    }
   ],
   "source": [
    "model.fit(trn, trn_a)"
   ]
  },
  {
   "cell_type": "code",
   "execution_count": 456,
   "metadata": {
    "scrolled": true
   },
   "outputs": [],
   "source": [
    "pred = model.predict(val)"
   ]
  },
  {
   "cell_type": "code",
   "execution_count": 457,
   "metadata": {},
   "outputs": [],
   "source": [
    "test = df_ans[[\"date\",\"target\"]][-5:]\n",
    "\n",
    "test[\"pred\"] = pred+1\n",
    "\n",
    "test[\"target\"] = test[\"target\"].apply(int)"
   ]
  },
  {
   "cell_type": "code",
   "execution_count": 458,
   "metadata": {},
   "outputs": [
    {
     "data": {
      "text/html": [
       "<style type=\"text/css\">\n",
       "</style>\n",
       "<table id=\"T_f873b_\">\n",
       "  <thead>\n",
       "    <tr>\n",
       "      <th class=\"col_heading level0 col0\" >date</th>\n",
       "      <th class=\"col_heading level0 col1\" >target</th>\n",
       "      <th class=\"col_heading level0 col2\" >pred</th>\n",
       "    </tr>\n",
       "  </thead>\n",
       "  <tbody>\n",
       "    <tr>\n",
       "      <td id=\"T_f873b_row0_col0\" class=\"data row0 col0\" >2022/10/25</td>\n",
       "      <td id=\"T_f873b_row0_col1\" class=\"data row0 col1\" >2</td>\n",
       "      <td id=\"T_f873b_row0_col2\" class=\"data row0 col2\" >3</td>\n",
       "    </tr>\n",
       "    <tr>\n",
       "      <td id=\"T_f873b_row1_col0\" class=\"data row1 col0\" >2022/10/26</td>\n",
       "      <td id=\"T_f873b_row1_col1\" class=\"data row1 col1\" >2</td>\n",
       "      <td id=\"T_f873b_row1_col2\" class=\"data row1 col2\" >3</td>\n",
       "    </tr>\n",
       "    <tr>\n",
       "      <td id=\"T_f873b_row2_col0\" class=\"data row2 col0\" >2022/10/27</td>\n",
       "      <td id=\"T_f873b_row2_col1\" class=\"data row2 col1\" >2</td>\n",
       "      <td id=\"T_f873b_row2_col2\" class=\"data row2 col2\" >1</td>\n",
       "    </tr>\n",
       "    <tr>\n",
       "      <td id=\"T_f873b_row3_col0\" class=\"data row3 col0\" >2022/10/29</td>\n",
       "      <td id=\"T_f873b_row3_col1\" class=\"data row3 col1\" >4</td>\n",
       "      <td id=\"T_f873b_row3_col2\" class=\"data row3 col2\" >4</td>\n",
       "    </tr>\n",
       "    <tr>\n",
       "      <td id=\"T_f873b_row4_col0\" class=\"data row4 col0\" >2022/10/30</td>\n",
       "      <td id=\"T_f873b_row4_col1\" class=\"data row4 col1\" >3</td>\n",
       "      <td id=\"T_f873b_row4_col2\" class=\"data row4 col2\" >2</td>\n",
       "    </tr>\n",
       "  </tbody>\n",
       "</table>\n"
      ],
      "text/plain": [
       "<pandas.io.formats.style.Styler at 0x7f687c3d5290>"
      ]
     },
     "execution_count": 458,
     "metadata": {},
     "output_type": "execute_result"
    }
   ],
   "source": [
    "test.style.hide_index()"
   ]
  },
  {
   "cell_type": "code",
   "execution_count": 460,
   "metadata": {},
   "outputs": [
    {
     "data": {
      "text/html": [
       "<div>\n",
       "<style scoped>\n",
       "    .dataframe tbody tr th:only-of-type {\n",
       "        vertical-align: middle;\n",
       "    }\n",
       "\n",
       "    .dataframe tbody tr th {\n",
       "        vertical-align: top;\n",
       "    }\n",
       "\n",
       "    .dataframe thead th {\n",
       "        text-align: right;\n",
       "    }\n",
       "</style>\n",
       "<table border=\"1\" class=\"dataframe\">\n",
       "  <thead>\n",
       "    <tr style=\"text-align: right;\">\n",
       "      <th></th>\n",
       "      <th>cal</th>\n",
       "      <th>step</th>\n",
       "      <th>dist</th>\n",
       "      <th>stop</th>\n",
       "      <th>light_act</th>\n",
       "      <th>heavy_act</th>\n",
       "      <th>hard_act</th>\n",
       "      <th>burn_cal</th>\n",
       "      <th>sleep_time</th>\n",
       "      <th>awake_time</th>\n",
       "      <th>awake_count</th>\n",
       "      <th>total_sleep</th>\n",
       "      <th>rem</th>\n",
       "      <th>light_sleep</th>\n",
       "      <th>deep_sleep</th>\n",
       "      <th>inter</th>\n",
       "    </tr>\n",
       "  </thead>\n",
       "  <tbody>\n",
       "    <tr>\n",
       "      <th>23</th>\n",
       "      <td>2762</td>\n",
       "      <td>9267</td>\n",
       "      <td>6.64</td>\n",
       "      <td>762</td>\n",
       "      <td>191</td>\n",
       "      <td>33</td>\n",
       "      <td>43</td>\n",
       "      <td>1260</td>\n",
       "      <td>360</td>\n",
       "      <td>57</td>\n",
       "      <td>29</td>\n",
       "      <td>417</td>\n",
       "      <td>68.0</td>\n",
       "      <td>236.0</td>\n",
       "      <td>56.0</td>\n",
       "      <td>1</td>\n",
       "    </tr>\n",
       "    <tr>\n",
       "      <th>24</th>\n",
       "      <td>2884</td>\n",
       "      <td>11255</td>\n",
       "      <td>8.09</td>\n",
       "      <td>730</td>\n",
       "      <td>224</td>\n",
       "      <td>29</td>\n",
       "      <td>40</td>\n",
       "      <td>1420</td>\n",
       "      <td>299</td>\n",
       "      <td>75</td>\n",
       "      <td>12</td>\n",
       "      <td>374</td>\n",
       "      <td>82.0</td>\n",
       "      <td>156.0</td>\n",
       "      <td>61.0</td>\n",
       "      <td>1</td>\n",
       "    </tr>\n",
       "    <tr>\n",
       "      <th>25</th>\n",
       "      <td>2561</td>\n",
       "      <td>8327</td>\n",
       "      <td>5.98</td>\n",
       "      <td>883</td>\n",
       "      <td>133</td>\n",
       "      <td>10</td>\n",
       "      <td>40</td>\n",
       "      <td>948</td>\n",
       "      <td>267</td>\n",
       "      <td>59</td>\n",
       "      <td>12</td>\n",
       "      <td>326</td>\n",
       "      <td>57.0</td>\n",
       "      <td>148.0</td>\n",
       "      <td>62.0</td>\n",
       "      <td>1</td>\n",
       "    </tr>\n",
       "    <tr>\n",
       "      <th>26</th>\n",
       "      <td>2086</td>\n",
       "      <td>2987</td>\n",
       "      <td>2.15</td>\n",
       "      <td>693</td>\n",
       "      <td>107</td>\n",
       "      <td>0</td>\n",
       "      <td>0</td>\n",
       "      <td>466</td>\n",
       "      <td>358</td>\n",
       "      <td>78</td>\n",
       "      <td>23</td>\n",
       "      <td>436</td>\n",
       "      <td>72.0</td>\n",
       "      <td>225.0</td>\n",
       "      <td>61.0</td>\n",
       "      <td>1</td>\n",
       "    </tr>\n",
       "    <tr>\n",
       "      <th>27</th>\n",
       "      <td>2506</td>\n",
       "      <td>7526</td>\n",
       "      <td>5.40</td>\n",
       "      <td>813</td>\n",
       "      <td>135</td>\n",
       "      <td>28</td>\n",
       "      <td>28</td>\n",
       "      <td>935</td>\n",
       "      <td>342</td>\n",
       "      <td>61</td>\n",
       "      <td>29</td>\n",
       "      <td>403</td>\n",
       "      <td>67.0</td>\n",
       "      <td>248.0</td>\n",
       "      <td>27.0</td>\n",
       "      <td>1</td>\n",
       "    </tr>\n",
       "  </tbody>\n",
       "</table>\n",
       "</div>"
      ],
      "text/plain": [
       "     cal   step  dist  stop  light_act  heavy_act  hard_act  burn_cal  \\\n",
       "23  2762   9267  6.64   762        191         33        43      1260   \n",
       "24  2884  11255  8.09   730        224         29        40      1420   \n",
       "25  2561   8327  5.98   883        133         10        40       948   \n",
       "26  2086   2987  2.15   693        107          0         0       466   \n",
       "27  2506   7526  5.40   813        135         28        28       935   \n",
       "\n",
       "    sleep_time  awake_time  awake_count  total_sleep   rem  light_sleep  \\\n",
       "23         360          57           29          417  68.0        236.0   \n",
       "24         299          75           12          374  82.0        156.0   \n",
       "25         267          59           12          326  57.0        148.0   \n",
       "26         358          78           23          436  72.0        225.0   \n",
       "27         342          61           29          403  67.0        248.0   \n",
       "\n",
       "    deep_sleep  inter  \n",
       "23        56.0      1  \n",
       "24        61.0      1  \n",
       "25        62.0      1  \n",
       "26        61.0      1  \n",
       "27        27.0      1  "
      ]
     },
     "execution_count": 460,
     "metadata": {},
     "output_type": "execute_result"
    }
   ],
   "source": [
    "val"
   ]
  },
  {
   "cell_type": "code",
   "execution_count": 459,
   "metadata": {},
   "outputs": [
    {
     "data": {
      "text/plain": [
       "<AxesSubplot:title={'center':'Feature importance'}, xlabel='F score', ylabel='Features'>"
      ]
     },
     "execution_count": 459,
     "metadata": {},
     "output_type": "execute_result"
    },
    {
     "data": {
      "image/png": "[encoded data removed]",
      "text/plain": [
       "<Figure size 600x600 with 1 Axes>"
      ]
     },
     "metadata": {},
     "output_type": "display_data"
    }
   ],
   "source": [
    "from xgboost import plot_importance\n",
    "import matplotlib.pyplot as plt\n",
    "# %matplotlib inline\n",
    "\n",
    "f, ax = plt.subplots(figsize=(6,6))\n",
    "plot_importance(model,  ax=ax)"
   ]
  },
  {
   "cell_type": "code",
   "execution_count": null,
   "metadata": {},
   "outputs": [],
   "source": []
  }
 ],
 "metadata": {
  "kernelspec": {
   "display_name": "Python 3",
   "language": "python",
   "name": "python3"
  },
  "language_info": {
   "codemirror_mode": {
    "name": "ipython",
    "version": 3
   },
   "file_extension": ".py",
   "mimetype": "text/x-python",
   "name": "python",
   "nbconvert_exporter": "python",
   "pygments_lexer": "ipython3",
   "version": "3.7.13"
  }
 },
 "nbformat": 4,
 "nbformat_minor": 4
}
